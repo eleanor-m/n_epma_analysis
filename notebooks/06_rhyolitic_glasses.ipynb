{
 "cells": [
  {
   "cell_type": "markdown",
   "metadata": {},
   "source": [
    "# Rhyolitic glasses from Mallik et al. "
   ]
  },
  {
   "cell_type": "code",
   "execution_count": null,
   "metadata": {},
   "outputs": [],
   "source": [
    "%load_ext autoreload\n",
    "%autoreload 2"
   ]
  },
  {
   "cell_type": "code",
   "execution_count": null,
   "metadata": {},
   "outputs": [],
   "source": [
    "# Set up to find custom python package\n",
    "import os\n",
    "import sys\n",
    "import numpy as np\n",
    "sys.path.insert(1, \".\")\n",
    "sys.path.insert(1, \"..\")"
   ]
  },
  {
   "cell_type": "code",
   "execution_count": null,
   "metadata": {},
   "outputs": [],
   "source": [
    "from src import readfiles, wdscan, correct_quant, calczaf, helper_funs\n",
    "import pickle\n",
    "import pandas as pd\n",
    "import numpy as np\n",
    "from pathlib import Path\n",
    "import matplotlib.pyplot as plt"
   ]
  },
  {
   "cell_type": "code",
   "execution_count": null,
   "metadata": {},
   "outputs": [],
   "source": []
  },
  {
   "cell_type": "markdown",
   "metadata": {},
   "source": [
    "# Nitrogen analyses"
   ]
  },
  {
   "cell_type": "markdown",
   "metadata": {},
   "source": [
    "### WD scan - visualise & fit"
   ]
  },
  {
   "cell_type": "markdown",
   "metadata": {},
   "source": [
    "D2872 - all dates"
   ]
  },
  {
   "cell_type": "code",
   "execution_count": null,
   "metadata": {},
   "outputs": [],
   "source": [
    "samplenames = [\"A870\", \"A876\", \"B989\"]\n",
    "metadata_list = {}\n",
    "data_list = {}\n",
    "\n",
    "for s in samplenames:\n",
    "    print(f\"---------------- {s} ----------------\")\n",
    "\n",
    "    folderpath = f\"../data/raw/rhyolitic_glasses_StA/{s}_long_scan\"\n",
    "    \n",
    "    # Read in the data\n",
    "    for d in [\"data001\", \"data002\"]:\n",
    "        try:             \n",
    "            comments, data, metadata = readfiles.import_jeol_wdscans(\n",
    "                subfolder=folderpath,\n",
    "                scan_filename=f'{d}_mm.csv',\n",
    "                cnd_filename=f'{d}.cnd',\n",
    "                comment_line_num=80,\n",
    "                crystal_line_name=\"$XM_WDS_CRYSTAL_NAME%0\",\n",
    "                sep=',',\n",
    "                return_metadata=True\n",
    "            )\n",
    "\n",
    "            metadata_list[s] = metadata\n",
    "            data_list[s] = data\n",
    "        except FileNotFoundError:\n",
    "                print(f\"No file found for {d}\")\n"
   ]
  },
  {
   "cell_type": "code",
   "execution_count": null,
   "metadata": {},
   "outputs": [],
   "source": [
    "fig, ax = plt.subplots(ncols=1, figsize=(10, 3))\n",
    "ax.plot(data_list[\"A870\"].L, data_list[\"A870\"].cps_per_nA, label=\"A870\", lw=0.5)\n",
    "ax.plot(data_list[\"A876\"].L, data_list[\"A876\"].cps_per_nA, label=\"A876\", lw=0.5)\n",
    "ax.plot(data_list[\"B989\"].L, data_list[\"B989\"].cps_per_nA, label=\"B989\", lw=0.5)\n",
    "plt.legend()\n"
   ]
  },
  {
   "cell_type": "markdown",
   "metadata": {},
   "source": [
    "These are all very similar. I think I could fit them all together and then treat these\n",
    "three glasses as a 'group' of samples. Maybe just aggregate the 146.6 and 146.4 versions too."
   ]
  },
  {
   "cell_type": "markdown",
   "metadata": {},
   "source": [
    "Ok, good. I'll stop there and get to work, but I know my step is to apply \"fit_scans_together\""
   ]
  },
  {
   "cell_type": "markdown",
   "metadata": {},
   "source": []
  }
 ],
 "metadata": {
  "kernelspec": {
   "display_name": "n_epma_analysis",
   "language": "python",
   "name": "python3"
  },
  "language_info": {
   "codemirror_mode": {
    "name": "ipython",
    "version": 3
   },
   "file_extension": ".py",
   "mimetype": "text/x-python",
   "name": "python",
   "nbconvert_exporter": "python",
   "pygments_lexer": "ipython3",
   "version": "3.9.17"
  }
 },
 "nbformat": 4,
 "nbformat_minor": 2
}
