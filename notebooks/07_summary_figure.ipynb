{
 "cells": [
  {
   "cell_type": "markdown",
   "metadata": {},
   "source": [
    "# Summary figure showing all N standards against reference value"
   ]
  },
  {
   "cell_type": "code",
   "execution_count": null,
   "metadata": {},
   "outputs": [],
   "source": [
    "%load_ext autoreload\n",
    "%autoreload 2"
   ]
  },
  {
   "cell_type": "code",
   "execution_count": null,
   "metadata": {},
   "outputs": [],
   "source": [
    "# Set up to find custom python package\n",
    "import os\n",
    "import sys\n",
    "import numpy as np\n",
    "sys.path.insert(1, \".\")\n",
    "sys.path.insert(1, \"..\")"
   ]
  },
  {
   "cell_type": "code",
   "execution_count": null,
   "metadata": {},
   "outputs": [],
   "source": [
    "import pandas as pd\n",
    "import numpy as np\n",
    "import matplotlib.pyplot as plt"
   ]
  },
  {
   "cell_type": "markdown",
   "metadata": {},
   "source": [
    "Read in the summary tables for each sample"
   ]
  },
  {
   "cell_type": "code",
   "execution_count": null,
   "metadata": {},
   "outputs": [],
   "source": [
    "file_list = [\n",
    "    \"../data/processed/buddingtonite_ANU/nitrogen_summary.csv\",\n",
    "    \"../data/processed/hyalophane_StA/N_summary.csv\",\n",
    "    \"../data/processed/basaltic_glasses/N_summary_D2872.csv\",\n",
    "    \"../data/processed/basaltic_glasses/N_summary_D2893.csv\",\n",
    "    \"../data/processed/basaltic_glasses/N_summary_Edi06.csv\",\n",
    "    \"../data/processed/basaltic_glasses/N_summary_Edi09.csv\",\n",
    "    \"../data/processed/rhyolitic_glasses/N_summary.csv\"\n",
    "]\n",
    "\n",
    "summary_dfs = []\n",
    "\n",
    "for f in file_list:\n",
    "    summary_dfs.append(\n",
    "        pd.read_csv(f, header = [0, 1], index_col=0)\n",
    "    )\n"
   ]
  },
  {
   "cell_type": "code",
   "execution_count": null,
   "metadata": {},
   "outputs": [],
   "source": [
    "summary_dfs[0]"
   ]
  },
  {
   "cell_type": "code",
   "execution_count": null,
   "metadata": {},
   "outputs": [],
   "source": [
    "sample_list = [\n",
    "    \"buddingtonite\",\n",
    "    \"hyalophane\",\n",
    "    \"D2872\",\n",
    "    \"D2893\",\n",
    "    \"Edi06\",\n",
    "    \"Edi09\",\n",
    "    \"A870\",\n",
    "    \"A876\",\n",
    "    \"B989\"\n",
    "]"
   ]
  },
  {
   "cell_type": "code",
   "execution_count": null,
   "metadata": {},
   "outputs": [],
   "source": [
    "combined_df = pd.concat([df.loc[:, \"3_bg_apf\"] for df in summary_dfs])\n",
    "combined_df.rename(index = {\"hyalophane_BNcalib\": \"hyalophane\"}, inplace=True)\n",
    "combined_df = combined_df.loc[sample_list, :]\n",
    "combined_df"
   ]
  },
  {
   "cell_type": "code",
   "execution_count": null,
   "metadata": {},
   "outputs": [],
   "source": [
    "reference = {\n",
    "    \"buddingtonite\": [5.44, np.NaN],\n",
    "    \"hyalophane\":  [0.113, 0.015], # from mosenfelder\n",
    "    \"D2872\": [0.38, 0.02],\n",
    "    \"D2893\": [0.058, 0.011],\n",
    "    \"Edi06\": [0, np.NaN],\n",
    "    \"Edi09\": [0.124, 0.007],\n",
    "    \"A870\": [1.0, 0.4],\n",
    "    \"A876\": [0.5, 0.3],\n",
    "    \"B989\": [0.9, 0.3]\n",
    "}"
   ]
  },
  {
   "cell_type": "code",
   "execution_count": null,
   "metadata": {},
   "outputs": [],
   "source": []
  },
  {
   "cell_type": "code",
   "execution_count": null,
   "metadata": {},
   "outputs": [],
   "source": [
    "combined_df[[\"Reference N wt%\", \"Reference N stdev\"]] = [reference[s] for s in sample_list]"
   ]
  },
  {
   "cell_type": "code",
   "execution_count": null,
   "metadata": {},
   "outputs": [],
   "source": [
    "combined_df"
   ]
  },
  {
   "cell_type": "code",
   "execution_count": null,
   "metadata": {},
   "outputs": [],
   "source": [
    "plt.rcParams[\"font.family\"] = \"arial\"\n",
    "plt.rcParams[\"font.size\"] = 10\n",
    "\n",
    "df = combined_df\n",
    "fig, ax = plt.subplots(figsize=(10*0.39,8*0.39))\n",
    "# fig = plt.figure(figsize=(8*0.39, 12*0.39))\n",
    "\n",
    "plt.errorbar(\n",
    "    df[\"Reference N wt%\"], \n",
    "    df[\"N wt% (average)\"],\n",
    "    xerr=df[\"Reference N stdev\"],\n",
    "    yerr=df[\"N stdev abs (multiple spots)\"],\n",
    "    fmt = \".k\",\n",
    "    lw = 0.5)\n",
    "\n",
    "plt.axline((0,0), (6,6), color=\"red\", lw=0.5)\n",
    "plt.xlabel(\"N wt% (reference value)\")\n",
    "plt.ylabel(\"N wt% (this study)\")\n",
    "\n",
    "ax.set_xticks(np.arange(0, 8, 2))\n",
    "ax.set_yticks(np.arange(0, 8, 2))\n",
    "\n",
    "plt.rcParams[\"font.size\"] = 8\n",
    "iax = ax.inset_axes(\n",
    "    [3.7, -0.3, 5, 5],\n",
    "    transform=ax.transData\n",
    ")\n",
    "\n",
    "df_subset = df.loc[df[\"Reference N wt%\"] < 0.5]\n",
    "\n",
    "iax.errorbar(\n",
    "    df_subset[\"Reference N wt%\"], \n",
    "    df_subset[\"N wt% (average)\"],\n",
    "    xerr=df_subset[\"Reference N stdev\"],\n",
    "    yerr=df_subset[\"N stdev abs (multiple spots)\"],\n",
    "    fmt = \".k\",\n",
    "    lw=0.5)\n",
    "\n",
    "iax.axline((0,0), (0.25, 0.25), color=\"red\", lw=0.5)\n",
    "\n",
    "ax.set_aspect(aspect=\"equal\")\n",
    "\n",
    "# iax.set_xlim(-0.05, 0.5)\n",
    "# iax.set_ylim(-0.05, 0.5)\n",
    "\n",
    "iax.set_xticks(np.arange(0, 0.6, 0.1))\n",
    "iax.set_yticks(np.arange(0, 0.4, 0.1))\n",
    "iax.set_aspect(\"equal\", adjustable=\"box\")\n",
    "\n",
    "# ax.indicate_inset_zoom(\n",
    "#     iax,\n",
    "#     edgecolor = \"red\"\n",
    "#     )\n",
    "\n",
    "patch, connector_lines = ax.indicate_inset(\n",
    "    [-0.1, -0.1, 0.6, 0.45],\n",
    "    inset_ax=iax,\n",
    "    facecolor=\"grey\",\n",
    "    alpha=0.2,\n",
    "    edgecolor=\"k\"\n",
    ")\n",
    "\n",
    "connector_lines[0].set_visible(False)\n",
    "connector_lines[1].set_visible(False)\n",
    "# connector_lines[2].set_visible(True)\n",
    "# connector_lines[3].set_visible(True)\n",
    "\n",
    "iax.set_facecolor([0.95, 0.95, 0.95])\n",
    "\n",
    "plt.tight_layout()\n",
    "plt.savefig(\"../data/processed/N_quant_summary_figure.pdf\")\n",
    "plt.show()"
   ]
  }
 ],
 "metadata": {
  "kernelspec": {
   "display_name": "n_epma_analysis",
   "language": "python",
   "name": "python3"
  },
  "language_info": {
   "codemirror_mode": {
    "name": "ipython",
    "version": 3
   },
   "file_extension": ".py",
   "mimetype": "text/x-python",
   "name": "python",
   "nbconvert_exporter": "python",
   "pygments_lexer": "ipython3",
   "version": "3.9.17"
  }
 },
 "nbformat": 4,
 "nbformat_minor": 2
}
