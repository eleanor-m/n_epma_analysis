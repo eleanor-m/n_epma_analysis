{
 "cells": [
  {
   "cell_type": "code",
   "execution_count": null,
   "metadata": {},
   "outputs": [],
   "source": [
    "%load_ext autoreload\n",
    "%autoreload 2"
   ]
  },
  {
   "cell_type": "markdown",
   "metadata": {},
   "source": [
    "# Tabulate and plot APF values"
   ]
  },
  {
   "cell_type": "code",
   "execution_count": null,
   "metadata": {},
   "outputs": [],
   "source": [
    "import pandas as pd\n",
    "import glob\n",
    "import numpy as np\n",
    "from pathlib import Path\n",
    "import matplotlib.pyplot as plt\n",
    "import matplotlib.transforms as mtransforms\n",
    "\n",
    "plt.rcParams['font.size'] = 12\n",
    "plt.rcParams['font.family'] = 'arial'\n"
   ]
  },
  {
   "cell_type": "code",
   "execution_count": null,
   "metadata": {},
   "outputs": [],
   "source": [
    "files = [Path(f) for f in sorted(glob.glob('../data/processed/peak_shapes/ht_area_tables/*.csv'))]\n",
    "\n",
    "names = [f.stem for f in files]\n",
    "apf_tables = [pd.read_csv(f, index_col=0) for f in files]\n",
    "apf_tables = [df.set_index('Sample') for df in apf_tables]\n",
    "\n",
    "print(names)\n",
    "\n",
    "\n",
    "for df in apf_tables:\n",
    "    df['ht_area_ratio_cf_GaN'] = df['ht_area_ratio'] / df.loc['GaN', 'ht_area_ratio']\n",
    "    df['ht_area_ratio_cf_GaN_stdev'] = df['ht_area_ratio_mc_stdev'] / df.loc['GaN', 'ht_area_ratio']\n",
    "    \n",
    "    df['ht_area_ratio_cf_BN'] = df['ht_area_ratio'] / df.loc['BN', 'ht_area_ratio']\n",
    "    df['ht_area_ratio_cf_BN_stdev'] = df['ht_area_ratio_mc_stdev'] / df.loc['BN', 'ht_area_ratio']\n",
    "    \n",
    "apf_tables[0]"
   ]
  },
  {
   "cell_type": "code",
   "execution_count": null,
   "metadata": {},
   "outputs": [],
   "source": [
    "y = 'ht_area_ratio_cf_GaN'\n",
    "y_sd = 'ht_area_ratio_cf_GaN_stdev'\n",
    "\n",
    "combined_apf_table = pd.concat([df[y] for df in apf_tables], axis=1)\n",
    "combined_stdev_table = pd.concat([df[y_sd] for df in apf_tables], axis=1)\n",
    "\n",
    "combined_apf_table.columns = names\n",
    "combined_stdev_table.columns = names\n"
   ]
  },
  {
   "cell_type": "code",
   "execution_count": null,
   "metadata": {},
   "outputs": [],
   "source": [
    "combined_apf_table"
   ]
  },
  {
   "cell_type": "code",
   "execution_count": null,
   "metadata": {},
   "outputs": [],
   "source": [
    "row_order = ['GaN', 'AlN', 'BN', 'Si3N4', 'GlassA870', 'Buddingtonite']\n",
    "combined_apf_table = combined_apf_table.reindex(row_order, axis=0)\n",
    "combined_stdev_table = combined_stdev_table.reindex(row_order, axis=0)"
   ]
  },
  {
   "cell_type": "code",
   "execution_count": null,
   "metadata": {},
   "outputs": [],
   "source": [
    "col_order = ['ANU_LDE1', 'ANU_LDE1_stdev', 'ANU_LDE1H', 'ANU_LDE1H_stdev', 'StA_LDE1', 'StA_LDE1_stdev', 'StA_LDE1L', 'StA_LDE1L_stdev']\n",
    "formatted_table = combined_apf_table.join(combined_stdev_table, rsuffix='_stdev')\n",
    "formatted_table = formatted_table.reindex(col_order, axis=1)"
   ]
  },
  {
   "cell_type": "code",
   "execution_count": null,
   "metadata": {},
   "outputs": [],
   "source": [
    "formatted_table.rename(\n",
    "                    {col: col.replace('_', ' ') for col in formatted_table.columns}, axis=1, inplace=True)\n",
    "\n",
    "formatted_table.rename(\n",
    "                    {col: '±' for col in formatted_table.columns if 'stdev' in col}, axis=1, inplace=True)"
   ]
  },
  {
   "cell_type": "code",
   "execution_count": null,
   "metadata": {},
   "outputs": [],
   "source": [
    "formatted_table['Average'] = formatted_table.loc[:,['ANU LDE1', 'ANU LDE1H', 'StA LDE1', 'StA LDE1L']].mean(axis=1)\n",
    "formatted_table['StDev'] = formatted_table.loc[:,['ANU LDE1', 'ANU LDE1H', 'StA LDE1', 'StA LDE1L']].std(axis=1)\n",
    "formatted_table = formatted_table.round(2)\n",
    "formatted_table.fillna('-', inplace=True)\n",
    "formatted_table.to_csv('../data/processed/peak_shapes/apf_relative_to_GaN.csv')\n",
    "formatted_table"
   ]
  },
  {
   "cell_type": "code",
   "execution_count": null,
   "metadata": {},
   "outputs": [],
   "source": [
    "fig, ax = plt.subplots(figsize=(8*0.39,8*0.39))\n",
    "\n",
    "clrs = {'GaN':'tab:blue', 'BN':'tab:orange', 'Buddingtonite':'mediumaquamarine',\n",
    "        'AlN': 'tab:purple', 'GlassA870': 'tab:red', 'Si3N4':'tab:cyan'}\n",
    "symbols = {'SXES': '*', 'ANU_LDE1': '^', 'ANU_LDE1H': 'v', 'StA_LDE1': '<', 'StA_LDE1L': '>'}\n",
    "\n",
    "for i, col in enumerate(combined_apf_table.columns):\n",
    "    for j, sample in enumerate(combined_apf_table.index):\n",
    "        \n",
    "        if col == 'SXES':\n",
    "            size = 20\n",
    "        else:\n",
    "            size = 10\n",
    "        \n",
    "        if j == 0:\n",
    "            leg = col\n",
    "        else:\n",
    "            leg = '_nolegend'\n",
    "        \n",
    "        plt.errorbar(x=j + i*0.1,\n",
    "                     y=combined_apf_table.loc[sample, col],\n",
    "                     yerr=combined_stdev_table.loc[sample, col],\n",
    "                     fmt=symbols[col], label=leg, color=clrs[sample],\n",
    "                     markersize=size, markeredgecolor='k')\n",
    "\n",
    "ax.set_xticks(np.arange(len(combined_apf_table)))\n",
    "ax.set_xticklabels(labels=combined_apf_table.index, rotation=75)\n",
    "\n",
    "plt.legend(fontsize=8)\n",
    "plt.ylabel('Ht/Area relative to GaN')\n",
    "plt.tight_layout()"
   ]
  },
  {
   "cell_type": "markdown",
   "metadata": {},
   "source": [
    "# Get the actual data and fit to plot figures showing the peak shapes"
   ]
  },
  {
   "cell_type": "markdown",
   "metadata": {},
   "source": [
    "Import data"
   ]
  },
  {
   "cell_type": "code",
   "execution_count": null,
   "metadata": {},
   "outputs": [],
   "source": [
    "data = {'StA': \n",
    "            {'LDE1': {}, 'LDE1L': {}}\n",
    "        ,'ANU': \n",
    "            {'LDE1': {}, 'LDE1H': {}}\n",
    "       }\n",
    "\n",
    "for lab in data.keys():\n",
    "    for xtl in data[lab].keys():\n",
    "        files = sorted(glob.glob(f'../data/processed/peak_shapes/data_with_fits_{lab}/{xtl}/*.csv'))\n",
    "        samplenames = [Path(f).stem for f in files]\n",
    "        spectral_data = [pd.read_csv(f, index_col=0) for f in files]\n",
    "        data[lab][xtl] = dict(zip(samplenames, spectral_data))\n",
    "        \n",
    "        for n in samplenames:\n",
    "            area = np.trapz(data[lab][xtl][n]['fit'], x=data[lab][xtl][n]['L'])\n",
    "            data[lab][xtl][n]['cps_per_nA_corrected_scaled'] = data[lab][xtl][n]['cps_per_nA_corrected'] / area\n",
    "            data[lab][xtl][n]['fit_scaled'] = data[lab][xtl][n]['fit'] / area\n"
   ]
  },
  {
   "cell_type": "code",
   "execution_count": null,
   "metadata": {},
   "outputs": [],
   "source": [
    "lab = 'ANU'\n",
    "xtl = 'LDE1H'\n",
    "\n",
    "fig, ax = plt.subplots(figsize=(8*0.39, 8*0.39))\n",
    "\n",
    "for n in row_order:\n",
    "    data[lab][xtl][n].plot(x='L', y='fit_scaled', color=clrs[n], linestyle='-', label=n.replace('nite',\".\"), ax=ax, lw=1.5)\n",
    "    data[lab][xtl][n].plot(x='L', y='cps_per_nA_corrected_scaled', color=clrs[n], linestyle='-', label='_nolegend', ax=ax, alpha=0.3, lw=0.5)\n",
    "    \n",
    "plt.xlim(130, 160)\n",
    "plt.yticks([])\n",
    "# plt.ylim(-0.01, 0.3)\n",
    "plt.legend(fontsize=8, frameon=False)\n",
    "plt.tight_layout()\n"
   ]
  },
  {
   "cell_type": "code",
   "execution_count": null,
   "metadata": {},
   "outputs": [],
   "source": [
    "def plot_panel1(data, ax):\n",
    "\n",
    "    lab = 'ANU'\n",
    "    xtl = 'LDE1H'\n",
    "\n",
    "    for n in row_order:\n",
    "        data[lab][xtl][n].plot(x='L', y='fit_scaled', color=clrs[n], linestyle='-', ax=ax, lw=1.5, legend=False)\n",
    "        data[lab][xtl][n].plot(x='L', y='cps_per_nA_corrected_scaled', color=clrs[n], linestyle='-', ax=ax, alpha=0.3, lw=0.5, legend=False)\n",
    "\n",
    "    ax.set_xlim(137, 154)\n",
    "    ax.set_ylabel('normalised cps/nA')\n",
    "    ax.set_xlabel('L (mm)')\n",
    "    # ax.set_yticks([])\n",
    "    ax.set_ylim(-0.01, 0.25)\n",
    "    # ax.legend(fontsize=8, frameon=False)\n",
    "    \n",
    "    return None\n",
    "\n",
    "def plot_panel2(combined_apf_table, combined_stdev_table, ax):\n",
    "\n",
    "    clrs = {'GaN':'tab:blue', 'BN':'tab:orange', 'Buddingtonite':'mediumaquamarine',\n",
    "            'AlN': 'tab:purple', 'GlassA870': 'tab:red', 'Si3N4':'tab:cyan'}\n",
    "    symbols = {'ANU_LDE1': '^', 'ANU_LDE1H': 'v', 'StA_LDE1': '<', 'StA_LDE1L': '>'}\n",
    "\n",
    "    for i, col in enumerate(combined_apf_table.columns):\n",
    "        for j, sample in enumerate(combined_apf_table.index):\n",
    "            \n",
    "            size = 10\n",
    "\n",
    "            plt.errorbar(x=j + i*0.1,\n",
    "                         y=combined_apf_table.loc[sample, col],\n",
    "                         yerr=combined_stdev_table.loc[sample, col],\n",
    "                         fmt=symbols[col], color=clrs[sample],\n",
    "                         markersize=size, markeredgecolor='k')\n",
    "\n",
    "    ax.set_xticks(np.arange(len(combined_apf_table)))\n",
    "    ax.set_xticklabels(labels=combined_apf_table.index, rotation=75)\n",
    "    \n",
    "    for i, k in enumerate(symbols.keys()):\n",
    "        ax.plot(5, 0.92 + 0.02*i, symbols[k], markersize = 10, markeredgecolor='grey', markerfacecolor='w')\n",
    "        ax.text(4.7, 0.92 + 0.02*i, k.replace('_', ' '), va='center', ha='right', fontsize=8)\n",
    "    \n",
    "    # ax.legend(fontsize=8)\n",
    "    ax.set_ylabel('Area-peak factor')"
   ]
  },
  {
   "cell_type": "code",
   "execution_count": null,
   "metadata": {},
   "outputs": [],
   "source": [
    "fig = plt.figure(figsize=(8*0.39, 16*0.39))\n",
    "mosaic = \"\"\"\n",
    "    A\n",
    "    B\n",
    "    \"\"\"\n",
    "ax_dict = fig.subplot_mosaic(mosaic)\n",
    "\n",
    "plot_panel1(data, ax_dict['A'])\n",
    "plot_panel2(combined_apf_table, combined_stdev_table, ax_dict['B'])\n",
    "\n",
    "for label, ax in ax_dict.items():\n",
    "    trans = mtransforms.ScaledTranslation(-5/72, -5/72, fig.dpi_scale_trans)\n",
    "    ax.text(1.0, 1.0, label, transform=ax.transAxes + trans,\n",
    "            fontsize=12, ha='right', va='top', fontfamily='Arial',\n",
    "            bbox=dict(facecolor='w', edgecolor='grey', pad=3.0))\n",
    "\n",
    "plt.tight_layout()\n",
    "plt.savefig(\"../figures/peak_shape_and_apf_combined.pdf\")"
   ]
  },
  {
   "cell_type": "code",
   "execution_count": null,
   "metadata": {},
   "outputs": [],
   "source": [
    "combined_apf_table.round(3)"
   ]
  },
  {
   "cell_type": "code",
   "execution_count": null,
   "metadata": {},
   "outputs": [],
   "source": [
    "combined_stdev_table.round(3)"
   ]
  },
  {
   "cell_type": "code",
   "execution_count": null,
   "metadata": {},
   "outputs": [],
   "source": [
    "def format_table_entry(apf, apf_sd):\n",
    "    apf_sd_last_digit = str(round(apf_sd, 3)).replace('.','').lstrip('0')\n",
    "    string_out = '{:.3f}({})'.format(apf, apf_sd_last_digit)\n",
    "    \n",
    "    if string_out == 'nan(nan)':\n",
    "        string_out = '-'\n",
    "    return string_out"
   ]
  },
  {
   "cell_type": "code",
   "execution_count": null,
   "metadata": {},
   "outputs": [],
   "source": [
    "formatted_apf_table = pd.DataFrame().reindex_like(combined_apf_table)\n",
    "\n",
    "for col in formatted_apf_table.columns:\n",
    "    for row in formatted_apf_table.index:\n",
    "        formatted_apf_table.loc[row, col] = format_table_entry(combined_apf_table.loc[row, col],\n",
    "                                                               combined_stdev_table.loc[row, col])\n",
    "\n",
    "formatted_apf_table.columns = [col.replace('_', ' ') for col in formatted_apf_table.columns]\n",
    "formatted_apf_table.to_csv(\"formatted_apf_table.csv\")\n",
    "formatted_apf_table"
   ]
  }
 ],
 "metadata": {
  "kernelspec": {
   "display_name": "n_epma_analysis",
   "language": "python",
   "name": "python3"
  },
  "language_info": {
   "codemirror_mode": {
    "name": "ipython",
    "version": 3
   },
   "file_extension": ".py",
   "mimetype": "text/x-python",
   "name": "python",
   "nbconvert_exporter": "python",
   "pygments_lexer": "ipython3",
   "version": "3.9.17"
  }
 },
 "nbformat": 4,
 "nbformat_minor": 2
}
