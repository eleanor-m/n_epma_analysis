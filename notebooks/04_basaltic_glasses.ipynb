{
 "cells": [
  {
   "cell_type": "markdown",
   "metadata": {},
   "source": [
    "# Synthetic basaltic glasses"
   ]
  },
  {
   "cell_type": "code",
   "execution_count": null,
   "metadata": {},
   "outputs": [],
   "source": [
    "%load_ext autoreload\n",
    "%autoreload 2"
   ]
  },
  {
   "cell_type": "code",
   "execution_count": null,
   "metadata": {},
   "outputs": [],
   "source": [
    "# Set up to find custom python package\n",
    "import os\n",
    "import sys\n",
    "import numpy as np\n",
    "sys.path.insert(1, \".\")\n",
    "sys.path.insert(1, \"..\")"
   ]
  },
  {
   "cell_type": "code",
   "execution_count": null,
   "metadata": {},
   "outputs": [],
   "source": [
    "from src import readfiles, wdscan, correct_quant, calczaf, helper_funs\n",
    "import pickle\n",
    "import pandas as pd\n",
    "import numpy as np\n",
    "from pathlib import Path\n",
    "import matplotlib.pyplot as plt"
   ]
  },
  {
   "cell_type": "code",
   "execution_count": null,
   "metadata": {},
   "outputs": [],
   "source": [
    "# For reference: how to rename folders\n",
    "\n",
    "# from src.readfiles import rename_folders_as_comments\n",
    "\n",
    "# for f in os.listdir(\"../data/raw/basaltic_glasses_StA/raw_quant_20211222/original/\"):\n",
    "#     print(f)\n",
    "                    \n",
    "#     rename_folders_as_comments(\n",
    "#         Path(f\"../data/raw/basaltic_glasses_StA/raw_quant_20211222/original/{f}\"), \n",
    "#         \"../data/raw/basaltic_glasses_StA/raw_quant_20211222/renamed\")"
   ]
  },
  {
   "cell_type": "code",
   "execution_count": null,
   "metadata": {},
   "outputs": [],
   "source": [
    "import pyrolite\n",
    "import pyrolite.geochem"
   ]
  },
  {
   "cell_type": "markdown",
   "metadata": {},
   "source": [
    "# Major/trace elements other than N"
   ]
  },
  {
   "cell_type": "code",
   "execution_count": null,
   "metadata": {},
   "outputs": [],
   "source": [
    "def get_major_elements_from_txt(path):\n",
    "\n",
    "    majors_raw = pd.read_csv(\n",
    "        path,\n",
    "        header=1,\n",
    "        index_col=False\n",
    "        )[:5]\n",
    "\n",
    "    mass_pct_cols = [col for col in majors_raw.columns if \"(Mass%)\" in col]\n",
    "    majors = majors_raw.loc[:, mass_pct_cols].rename(columns={col: col.replace(\"(Mass%)\", \"\") for col in mass_pct_cols})\n",
    "    detlims = majors_raw[[col for col in majors_raw.columns if \"(D.L.)\" in col]]\n",
    "    return majors, detlims\n",
    "\n",
    "majors = {}\n",
    "detlims = {}\n",
    "for s in [\"Edi06\", \"Edi09\", \"D2872\"]:\n",
    "\n",
    "    majors[s], detlims[s] = get_major_elements_from_txt(\n",
    "        f\"../data/raw/basaltic_glasses_StA/majors_20211110/{s.lower()}_all.txt\"\n",
    "    )\n",
    "\n",
    "# for D2983 I didn't get an \"_all.txt\" file so I need to get the data differently\n",
    "\n",
    "majors[\"D2893\"] = pd.read_csv(\n",
    "    \"../data/raw/basaltic_glasses_StA/majors_20211110/D2893_2_oxide.csv\",\n",
    "    header=1,\n",
    "    index_col=False\n",
    ")[:4]\n",
    "\n",
    "majors[\"D2893\"].columns = [c.strip() for c in majors[\"D2893\"].columns]\n",
    "\n",
    "detlims[\"D2893\"] = pd.read_csv(\n",
    "    \"../data/raw/basaltic_glasses_StA/majors_20211110/D2893_2_detlim.txt\",\n",
    "    header=1,\n",
    "    index_col=False\n",
    ")[:4]"
   ]
  },
  {
   "cell_type": "code",
   "execution_count": null,
   "metadata": {},
   "outputs": [],
   "source": [
    "majors[\"D2872\"].columns"
   ]
  },
  {
   "cell_type": "code",
   "execution_count": null,
   "metadata": {},
   "outputs": [],
   "source": [
    "majors[\"D2893\"].columns"
   ]
  },
  {
   "cell_type": "code",
   "execution_count": null,
   "metadata": {},
   "outputs": [],
   "source": [
    "majors_element = {}\n",
    "\n",
    "for k, df in majors.items():\n",
    "\n",
    "    majors_element[k] = df[\n",
    "        ['SiO2', 'Al2O3', 'Cl', 'P2O5', 'Fe2O3', 'MnO', 'Cr2O3', 'K2O', 'CaO', 'Ru2O3', 'Na2O', 'MgO']\n",
    "        ].pyrochem.convert_chemistry(\n",
    "        to=['Si', 'Al', 'Cl', 'P', 'Fe', 'Mn', 'Cr', 'K', 'Ca', 'Ru', 'Na', 'Mg']\n",
    "    ).fillna(0)\n",
    "\n",
    "    majors_element[k][\"O\"] = df[\"Total\"] - (majors_element[k].sum(axis=1))\n",
    "\n",
    "    majors_element[k][\"Total\"] = majors_element[k].sum(axis=1)\n"
   ]
  },
  {
   "cell_type": "code",
   "execution_count": null,
   "metadata": {},
   "outputs": [],
   "source": [
    "majors_element"
   ]
  },
  {
   "cell_type": "code",
   "execution_count": null,
   "metadata": {},
   "outputs": [],
   "source": [
    "majors_summary = {}\n",
    "\n",
    "for k, df in majors_element.items():\n",
    "    majors_summary[k] = pd.concat([df.T.mean(axis=1), df.T.std(axis=1)], axis=1)\n",
    "    majors_summary[k].columns = [\"wt% mean\", \"stdev\"]\n",
    "\n",
    "majors_summary_combined = pd.concat(majors_summary, axis=1)"
   ]
  },
  {
   "cell_type": "code",
   "execution_count": null,
   "metadata": {},
   "outputs": [],
   "source": [
    "majors_summary_combined.round(3).to_csv(\"../data/processed/basaltic_glasses/basaltic_glasses_majors_summary.csv\")\n",
    "majors_summary_combined.round(3)"
   ]
  },
  {
   "cell_type": "code",
   "execution_count": null,
   "metadata": {},
   "outputs": [],
   "source": [
    "detlims[\"Edi09\"]"
   ]
  },
  {
   "cell_type": "markdown",
   "metadata": {},
   "source": [
    "# Nitrogen analyses"
   ]
  },
  {
   "cell_type": "markdown",
   "metadata": {},
   "source": [
    "### WD scan - visualise & fit"
   ]
  },
  {
   "cell_type": "code",
   "execution_count": null,
   "metadata": {},
   "outputs": [],
   "source": [
    "# Read in the data\n",
    "comments, data, metadata = readfiles.import_jeol_wdscans(\n",
    "    subfolder=Path(\"../data/raw/basaltic_glasses_StA/wd_scans_20211008/D2872_D2893/Pos_0001\"),\n",
    "    scan_filename='data001_mm.csv',\n",
    "    cnd_filename='data001.cnd',\n",
    "    comment_line_num=80,\n",
    "    crystal_line_name=\"$XM_WDS_CRYSTAL_NAME%0\",\n",
    "    sep=',',\n",
    "    return_metadata=True\n",
    ")\n",
    "\n",
    "print(comments)\n",
    "print(metadata)\n",
    "\n",
    "# Plot the data without fitting\n",
    "wdscan.plot_wdscan(comments, data, save_to=None)"
   ]
  },
  {
   "cell_type": "code",
   "execution_count": null,
   "metadata": {},
   "outputs": [],
   "source": [
    "# Read in the data\n",
    "comments, data, metadata = readfiles.import_jeol_wdscans(\n",
    "    subfolder=Path(\"../data/raw/basaltic_glasses_StA/wd_scans_20211008/D2872_D2893/Pos_0002\"),\n",
    "    scan_filename='data001_mm.csv',\n",
    "    cnd_filename='data001.cnd',\n",
    "    comment_line_num=80,\n",
    "    crystal_line_name=\"$XM_WDS_CRYSTAL_NAME%0\",\n",
    "    sep=',',\n",
    "    return_metadata=True\n",
    ")\n",
    "\n",
    "print(comments)\n",
    "print(metadata)\n",
    "\n",
    "# Plot the data without fitting\n",
    "wdscan.plot_wdscan(comments, data, save_to=None)"
   ]
  },
  {
   "cell_type": "code",
   "execution_count": null,
   "metadata": {},
   "outputs": [],
   "source": [
    "# Read in the data\n",
    "comments, data, metadata = readfiles.import_jeol_wdscans(\n",
    "    subfolder=Path(\"../data/raw/basaltic_glasses_StA/wd_scans_20211008/Edi09/Pos_0001\"),\n",
    "    scan_filename='data001_mm.csv',\n",
    "    cnd_filename='data001.cnd',\n",
    "    comment_line_num=80,\n",
    "    crystal_line_name=\"$XM_WDS_CRYSTAL_NAME%0\",\n",
    "    sep=',',\n",
    "    return_metadata=True\n",
    ")\n",
    "\n",
    "print(comments)\n",
    "print(metadata)\n",
    "\n",
    "# Plot the data without fitting\n",
    "fig, ax = wdscan.plot_wdscan(comments, data, save_to=None)\n",
    "ax.set_title(\"Edi09\")\n",
    "plt.show()"
   ]
  },
  {
   "cell_type": "markdown",
   "metadata": {},
   "source": [
    "D2872 - all dates"
   ]
  },
  {
   "cell_type": "code",
   "execution_count": null,
   "metadata": {},
   "outputs": [],
   "source": [
    "folderpath_list = [\n",
    "    \"../data/raw/basaltic_glasses_StA/wd_scans_20211008/D2872_D2893/Pos_0001\",\n",
    "    \"../data/raw/basaltic_glasses_StA/wd_scans_20211125/D2872_bg_scan/Pos_0004\",\n",
    "    \"../data/raw/basaltic_glasses_StA/wd_scans_20211222/22122021_0014_QLW/Pos_0003\"\n",
    "]\n",
    "\n",
    "metadata_list = []\n",
    "fig, ax = plt.subplots(ncols=4, figsize=(10, 3))\n",
    "\n",
    "for i, f in enumerate(folderpath_list):\n",
    "    # Read in the data\n",
    "    comments, data, metadata = readfiles.import_jeol_wdscans(\n",
    "        subfolder=f,\n",
    "        scan_filename='data001_mm.csv',\n",
    "        cnd_filename='data001.cnd',\n",
    "        comment_line_num=80,\n",
    "        crystal_line_name=\"$XM_WDS_CRYSTAL_NAME%0\",\n",
    "        sep=',',\n",
    "        return_metadata=True\n",
    "    )\n",
    "\n",
    "    metadata_list.append(metadata)\n",
    "    ax[i].plot(data.L, data.cps_per_nA, \".k\", markersize=1)\n",
    "    ax[i].set_title(comments)\n",
    "\n",
    "    ax[3].plot(data.L, data.cps_per_nA, \".\", markersize=1, label=i)\n",
    "    ax[3].set_title(\"All scans overlain\")\n",
    "\n",
    "plt.show()"
   ]
  },
  {
   "cell_type": "markdown",
   "metadata": {},
   "source": [
    "So I think based on this we could fit the two best scans and use those to produce the background fit.\n",
    "The first scan is a bit too noisy."
   ]
  },
  {
   "cell_type": "code",
   "execution_count": null,
   "metadata": {},
   "outputs": [],
   "source": [
    "pd.DataFrame(metadata_list).T"
   ]
  },
  {
   "cell_type": "markdown",
   "metadata": {},
   "source": [
    "In fact I think we can just fit the middle scan - the longest and best"
   ]
  },
  {
   "cell_type": "code",
   "execution_count": null,
   "metadata": {},
   "outputs": [],
   "source": [
    "# Fit and plot with the fits ------------\n",
    "# Choose parts of the spectrum to use in the fit\n",
    "bg_roi = [[120,138], [155, 180]]\n",
    "sample = \"D2872\"\n",
    "\n",
    "comments, data, metadata = readfiles.import_jeol_wdscans(\n",
    "    subfolder=\"../data/raw/basaltic_glasses_StA/wd_scans_20211125/D2872_bg_scan/Pos_0004\",\n",
    "    scan_filename='data001_mm.csv',\n",
    "    cnd_filename='data001.cnd',\n",
    "    comment_line_num=80,\n",
    "    crystal_line_name=\"$XM_WDS_CRYSTAL_NAME%0\",\n",
    "    sep=',',\n",
    "    return_metadata=True\n",
    ")\n",
    "trimmed_data = wdscan.trim_data_from_regions(data, bg_roi)\n",
    "out = wdscan.fit_bg(trimmed_data)\n",
    "wdscan.plot_bg_fit(data, trimmed_data, out, sample, [146.6], save_to=Path(\"../data/interim/basaltic_glasses/fits\"))\n",
    "par_dict = wdscan.write_fit_params(out, sample, save_to=Path(\"../data/interim/basaltic_glasses/fits/\"))"
   ]
  },
  {
   "cell_type": "code",
   "execution_count": null,
   "metadata": {},
   "outputs": [],
   "source": []
  },
  {
   "cell_type": "markdown",
   "metadata": {},
   "source": []
  }
 ],
 "metadata": {
  "kernelspec": {
   "display_name": "n_epma_analysis",
   "language": "python",
   "name": "python3"
  },
  "language_info": {
   "codemirror_mode": {
    "name": "ipython",
    "version": 3
   },
   "file_extension": ".py",
   "mimetype": "text/x-python",
   "name": "python",
   "nbconvert_exporter": "python",
   "pygments_lexer": "ipython3",
   "version": "3.9.17"
  }
 },
 "nbformat": 4,
 "nbformat_minor": 2
}
