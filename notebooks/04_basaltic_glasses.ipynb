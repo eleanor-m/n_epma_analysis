{
 "cells": [
  {
   "cell_type": "markdown",
   "metadata": {},
   "source": [
    "# Synthetic basaltic glasses"
   ]
  },
  {
   "cell_type": "code",
   "execution_count": null,
   "metadata": {},
   "outputs": [],
   "source": [
    "%load_ext autoreload\n",
    "%autoreload 2"
   ]
  },
  {
   "cell_type": "code",
   "execution_count": null,
   "metadata": {},
   "outputs": [],
   "source": [
    "# Set up to find custom python package\n",
    "import os\n",
    "import sys\n",
    "import numpy as np\n",
    "sys.path.insert(1, \".\")\n",
    "sys.path.insert(1, \"..\")"
   ]
  },
  {
   "cell_type": "code",
   "execution_count": null,
   "metadata": {},
   "outputs": [],
   "source": [
    "from src import readfiles, wdscan, correct_quant, calczaf, helper_funs\n",
    "import pickle\n",
    "import pandas as pd\n",
    "import numpy as np\n",
    "from pathlib import Path\n",
    "import matplotlib.pyplot as plt"
   ]
  },
  {
   "cell_type": "code",
   "execution_count": null,
   "metadata": {},
   "outputs": [],
   "source": [
    "# For reference: how to rename folders\n",
    "\n",
    "# from src.readfiles import rename_folders_as_comments\n",
    "\n",
    "# for f in os.listdir(\"../data/raw/basaltic_glasses_StA/raw_quant_20211222/original/\"):\n",
    "#     print(f)\n",
    "                    \n",
    "#     rename_folders_as_comments(\n",
    "#         Path(f\"../data/raw/basaltic_glasses_StA/raw_quant_20211222/original/{f}\"), \n",
    "#         \"../data/raw/basaltic_glasses_StA/raw_quant_20211222/renamed\")"
   ]
  },
  {
   "cell_type": "code",
   "execution_count": null,
   "metadata": {},
   "outputs": [],
   "source": [
    "import pyrolite.geochem"
   ]
  },
  {
   "cell_type": "markdown",
   "metadata": {},
   "source": [
    "# Major/trace elements other than N"
   ]
  },
  {
   "cell_type": "code",
   "execution_count": null,
   "metadata": {},
   "outputs": [],
   "source": [
    "def get_major_elements_from_txt(path):\n",
    "\n",
    "    majors_raw = pd.read_csv(\n",
    "        path,\n",
    "        header=1,\n",
    "        index_col=False\n",
    "        )[:5]\n",
    "\n",
    "    mass_pct_cols = [col for col in majors_raw.columns if \"(Mass%)\" in col]\n",
    "    majors = majors_raw.loc[:, mass_pct_cols].rename(columns={col: col.replace(\"(Mass%)\", \"\") for col in mass_pct_cols})\n",
    "    detlims = majors_raw[[col for col in majors_raw.columns if \"(D.L.)\" in col]]\n",
    "    return majors, detlims\n",
    "\n",
    "majors = {}\n",
    "detlims = {}\n",
    "for s in [\"Edi06\", \"Edi09\", \"D2872\"]:\n",
    "\n",
    "    majors[s], detlims[s] = get_major_elements_from_txt(\n",
    "        f\"../data/raw/basaltic_glasses_StA/majors_20211110/{s.lower()}_all.txt\"\n",
    "    )\n",
    "\n",
    "# for D2983 I didn't get an \"_all.txt\" file so I need to get the data differently\n",
    "\n",
    "majors[\"D2893\"] = pd.read_csv(\n",
    "    \"../data/raw/basaltic_glasses_StA/majors_20211110/D2893_2_oxide.csv\",\n",
    "    header=1,\n",
    "    index_col=False\n",
    ")[:4]\n",
    "\n",
    "majors[\"D2893\"].columns = [c.strip() for c in majors[\"D2893\"].columns]\n",
    "\n",
    "detlims[\"D2893\"] = pd.read_csv(\n",
    "    \"../data/raw/basaltic_glasses_StA/majors_20211110/D2893_2_detlim.txt\",\n",
    "    header=1,\n",
    "    index_col=False\n",
    ")[:4]"
   ]
  },
  {
   "cell_type": "code",
   "execution_count": null,
   "metadata": {},
   "outputs": [],
   "source": [
    "majors[\"D2872\"].columns"
   ]
  },
  {
   "cell_type": "code",
   "execution_count": null,
   "metadata": {},
   "outputs": [],
   "source": [
    "majors[\"D2893\"].columns"
   ]
  },
  {
   "cell_type": "code",
   "execution_count": null,
   "metadata": {},
   "outputs": [],
   "source": [
    "majors_element = {}\n",
    "\n",
    "for k, df in majors.items():\n",
    "\n",
    "    majors_element[k] = df[\n",
    "        ['SiO2', 'Al2O3', 'Cl', 'P2O5', 'Fe2O3', 'MnO', 'Cr2O3', 'K2O', 'CaO', 'Ru2O3', 'Na2O', 'MgO']\n",
    "        ].pyrochem.convert_chemistry(\n",
    "        to=['Si', 'Al', 'Cl', 'P', 'Fe', 'Mn', 'Cr', 'K', 'Ca', 'Ru', 'Na', 'Mg']\n",
    "    ).fillna(0)\n",
    "\n",
    "    majors_element[k][\"O\"] = df[\"Total\"] - (majors_element[k].sum(axis=1))\n",
    "\n",
    "    majors_element[k][\"Total\"] = majors_element[k].sum(axis=1)\n"
   ]
  },
  {
   "cell_type": "code",
   "execution_count": null,
   "metadata": {},
   "outputs": [],
   "source": [
    "majors_element"
   ]
  },
  {
   "cell_type": "code",
   "execution_count": null,
   "metadata": {},
   "outputs": [],
   "source": [
    "majors_summary = {}\n",
    "\n",
    "for k, df in majors_element.items():\n",
    "    majors_summary[k] = pd.concat([df.T.mean(axis=1), df.T.std(axis=1)], axis=1)\n",
    "    majors_summary[k].columns = [\"wt% mean\", \"stdev\"]\n",
    "\n",
    "majors_summary_combined = pd.concat(majors_summary, axis=1)"
   ]
  },
  {
   "cell_type": "code",
   "execution_count": null,
   "metadata": {},
   "outputs": [],
   "source": [
    "majors_summary_combined.round(3).to_csv(\"../data/processed/basaltic_glasses/basaltic_glasses_majors_summary.csv\")\n",
    "majors_summary_combined.round(3)"
   ]
  },
  {
   "cell_type": "code",
   "execution_count": null,
   "metadata": {},
   "outputs": [],
   "source": [
    "detlims[\"Edi09\"]"
   ]
  },
  {
   "cell_type": "markdown",
   "metadata": {},
   "source": [
    "# Nitrogen analyses"
   ]
  },
  {
   "cell_type": "markdown",
   "metadata": {},
   "source": [
    "### WD scan - visualise & fit"
   ]
  },
  {
   "cell_type": "markdown",
   "metadata": {},
   "source": [
    "D2872 - all dates"
   ]
  },
  {
   "cell_type": "code",
   "execution_count": null,
   "metadata": {},
   "outputs": [],
   "source": [
    "samplenames = [\"D2872\", \"D2893\", \"Edi09\", \"Edi06\"]\n",
    "metadata_list = {}\n",
    "data_list = {}\n",
    "\n",
    "for s in samplenames:\n",
    "    print(f\"---------------- {s} ----------------\")\n",
    "\n",
    "    folderpath_list = [\n",
    "        f\"../data/raw/basaltic_glasses_StA/wd_scans_20211008/{s}\",\n",
    "        f\"../data/raw/basaltic_glasses_StA/wd_scans_20211125/{s}\",\n",
    "        f\"../data/raw/basaltic_glasses_StA/wd_scans_20211222/{s}\"\n",
    "    ]\n",
    "\n",
    "    metadata_list[s] = []\n",
    "    data_list[s] = []\n",
    "\n",
    "    for i, f in enumerate(folderpath_list):\n",
    "        # Read in the data\n",
    "        for d in [\"data001\", \"data002\"]:\n",
    "            try:             \n",
    "                comments, data, metadata = readfiles.import_jeol_wdscans(\n",
    "                    subfolder=f,\n",
    "                    scan_filename=f'{d}_mm.csv',\n",
    "                    cnd_filename=f'{d}.cnd',\n",
    "                    comment_line_num=80,\n",
    "                    crystal_line_name=\"$XM_WDS_CRYSTAL_NAME%0\",\n",
    "                    sep=',',\n",
    "                    return_metadata=True\n",
    "                )\n",
    "\n",
    "                metadata_list[s].append(metadata)\n",
    "                data_list[s].append(data)\n",
    "            except FileNotFoundError:\n",
    "                 print(f\"No file found for {d}\")\n"
   ]
  },
  {
   "cell_type": "code",
   "execution_count": null,
   "metadata": {},
   "outputs": [],
   "source": [
    "lde1l_scans = {}\n",
    "lde1_scans = {}\n",
    "\n",
    "for s in samplenames:\n",
    "    print(f\"--------------------{s}-------------------\")\n",
    "    lde1l_scans[s] = {\"metadata\": [], \"data\": []}\n",
    "    lde1_scans[s] = {\"metadata\": [], \"data\": []}\n",
    "\n",
    "    for i in range(len(data_list[s])):\n",
    "        if metadata_list[s][i].crystal == \"LDE1L\":\n",
    "            lde1l_scans[s][\"metadata\"].append(metadata_list[s][i])\n",
    "            lde1l_scans[s][\"data\"].append(data_list[s][i])\n",
    "\n",
    "        if metadata_list[s][i].crystal == \"LDE1\":\n",
    "            lde1_scans[s][\"metadata\"].append(metadata_list[s][i])\n",
    "            lde1_scans[s][\"data\"].append(data_list[s][i])    \n",
    "\n",
    "\n",
    "    fig, ax = plt.subplots(ncols=4, figsize=(10, 3))\n",
    "\n",
    "    for i in range(len(lde1l_scans[s][\"data\"])):\n",
    "            data = lde1l_scans[s][\"data\"][i]\n",
    "\n",
    "            ax[i].plot(data.L, data.cps_per_nA, \".k\", markersize=1)\n",
    "            ax[i].set_title(s)\n",
    "\n",
    "            ax[3].plot(data.L, data.cps_per_nA, \".\", markersize=1, label=i)\n",
    "            ax[3].set_title(\"All scans overlain\")\n",
    "\n",
    "    display(pd.DataFrame(lde1l_scans[s][\"metadata\"]).T)\n",
    "    plt.show()"
   ]
  },
  {
   "cell_type": "markdown",
   "metadata": {},
   "source": [
    "For each of these, we can just fit the middle scan - the highest-resolution one\n",
    "Except for Edi06 for which there is only a single scan"
   ]
  },
  {
   "cell_type": "code",
   "execution_count": null,
   "metadata": {},
   "outputs": [],
   "source": [
    "# Fit and plot with the fits ------------\n",
    "# Choose parts of the spectrum to use in the fit\n",
    "bg_roi = [[120,138], [155, 180]]\n",
    "sample = \"D2872\"\n",
    "\n",
    "comments, data, metadata = readfiles.import_jeol_wdscans(\n",
    "    subfolder=\"../data/raw/basaltic_glasses_StA/wd_scans_20211125/D2872\",\n",
    "    scan_filename='data001_mm.csv',\n",
    "    cnd_filename='data001.cnd',\n",
    "    comment_line_num=80,\n",
    "    crystal_line_name=\"$XM_WDS_CRYSTAL_NAME%0\",\n",
    "    sep=',',\n",
    "    return_metadata=True\n",
    ")\n",
    "print(metadata.crystal)\n",
    "trimmed_data = wdscan.trim_data_from_regions(data, bg_roi)\n",
    "out = wdscan.fit_bg(trimmed_data)\n",
    "wdscan.plot_bg_fit(data, trimmed_data, out, sample, [146.6], save_to=Path(\"../data/interim/basaltic_glasses/fits\"))\n",
    "par_dict = wdscan.write_fit_params(out, sample, save_to=Path(\"../data/interim/basaltic_glasses/fits/\"))"
   ]
  },
  {
   "cell_type": "markdown",
   "metadata": {},
   "source": [
    "## D2983"
   ]
  },
  {
   "cell_type": "code",
   "execution_count": null,
   "metadata": {},
   "outputs": [],
   "source": [
    "# Fit and plot with the fits ------------\n",
    "# Choose parts of the spectrum to use in the fit\n",
    "bg_roi = [[120,140], [170, 180]]\n",
    "sample = \"D2893\"\n",
    "\n",
    "comments, data, metadata = readfiles.import_jeol_wdscans(\n",
    "    subfolder=\"../data/raw/basaltic_glasses_StA/wd_scans_20211125/D2893\",\n",
    "    scan_filename='data001_mm.csv',\n",
    "    cnd_filename='data001.cnd',\n",
    "    comment_line_num=80,\n",
    "    crystal_line_name=\"$XM_WDS_CRYSTAL_NAME%0\",\n",
    "    sep=',',\n",
    "    return_metadata=True\n",
    ")\n",
    "\n",
    "print(metadata.crystal)\n",
    "trimmed_data = wdscan.trim_data_from_regions(data, bg_roi)\n",
    "out = wdscan.fit_bg(trimmed_data)\n",
    "wdscan.plot_bg_fit(data, trimmed_data, out, sample, [146.6], save_to=Path(\"../data/interim/basaltic_glasses/fits\"))\n",
    "par_dict = wdscan.write_fit_params(out, sample, save_to=Path(\"../data/interim/basaltic_glasses/fits/\"))"
   ]
  },
  {
   "cell_type": "markdown",
   "metadata": {},
   "source": [
    "## Edi09"
   ]
  },
  {
   "cell_type": "code",
   "execution_count": null,
   "metadata": {},
   "outputs": [],
   "source": [
    "# Fit and plot with the fits ------------\n",
    "# Choose parts of the spectrum to use in the fit\n",
    "bg_roi = [[120,140], [170, 180]]\n",
    "sample = \"Edi09\"\n",
    "\n",
    "comments, data, metadata = readfiles.import_jeol_wdscans(\n",
    "    subfolder=\"../data/raw/basaltic_glasses_StA/wd_scans_20211125/Edi09\",\n",
    "    scan_filename='data001_mm.csv',\n",
    "    cnd_filename='data001.cnd',\n",
    "    comment_line_num=80,\n",
    "    crystal_line_name=\"$XM_WDS_CRYSTAL_NAME%0\",\n",
    "    sep=',',\n",
    "    return_metadata=True\n",
    ")\n",
    "\n",
    "print(metadata.crystal)\n",
    "trimmed_data = wdscan.trim_data_from_regions(data, bg_roi)\n",
    "out = wdscan.fit_bg(trimmed_data)\n",
    "wdscan.plot_bg_fit(data, trimmed_data, out, sample, [146.6], save_to=Path(\"../data/interim/basaltic_glasses/fits\"))\n",
    "par_dict = wdscan.write_fit_params(out, sample, save_to=Path(\"../data/interim/basaltic_glasses/fits/\"))"
   ]
  },
  {
   "cell_type": "markdown",
   "metadata": {},
   "source": [
    "## Edi06"
   ]
  },
  {
   "cell_type": "code",
   "execution_count": null,
   "metadata": {},
   "outputs": [],
   "source": [
    "# Fit and plot with the fits ------------\n",
    "# Choose parts of the spectrum to use in the fit\n",
    "bg_roi = [[120,140], [170, 180]]\n",
    "sample = \"Edi06\"\n",
    "\n",
    "comments, data, metadata = readfiles.import_jeol_wdscans(\n",
    "    subfolder=\"../data/raw/basaltic_glasses_StA/wd_scans_20211222/Edi06\",\n",
    "    scan_filename='data001_mm.csv',\n",
    "    cnd_filename='data001.cnd',\n",
    "    comment_line_num=80,\n",
    "    crystal_line_name=\"$XM_WDS_CRYSTAL_NAME%0\",\n",
    "    sep=',',\n",
    "    return_metadata=True\n",
    ")\n",
    "\n",
    "print(metadata.crystal)\n",
    "trimmed_data = wdscan.trim_data_from_regions(data, bg_roi)\n",
    "out = wdscan.fit_bg(trimmed_data)\n",
    "wdscan.plot_bg_fit(data, trimmed_data, out, sample, [146.6], save_to=Path(\"../data/interim/basaltic_glasses/fits\"))\n",
    "par_dict = wdscan.write_fit_params(out, sample, save_to=Path(\"../data/interim/basaltic_glasses/fits/\"))"
   ]
  }
 ],
 "metadata": {
  "kernelspec": {
   "display_name": "n_epma_analysis",
   "language": "python",
   "name": "python3"
  },
  "language_info": {
   "codemirror_mode": {
    "name": "ipython",
    "version": 3
   },
   "file_extension": ".py",
   "mimetype": "text/x-python",
   "name": "python",
   "nbconvert_exporter": "python",
   "pygments_lexer": "ipython3",
   "version": "3.9.17"
  }
 },
 "nbformat": 4,
 "nbformat_minor": 2
}
