{
 "cells": [
  {
   "cell_type": "code",
   "execution_count": null,
   "metadata": {},
   "outputs": [],
   "source": [
    "import pandas as pd\n",
    "import glob\n",
    "import sys\n",
    "sys.path.insert(1, '..')\n",
    "from src import readfiles\n",
    "from pathlib import Path\n",
    "import numpy as np\n",
    "from matplotlib import pyplot as plt\n",
    "import matplotlib.transforms as mtransforms\n",
    "\n",
    "# **Warning:**\n",
    "# Files named 001 and 002 do not always correspond to the same crystal!\n",
    "# So this information must be extracted from the metadata.\n",
    "# So get all the data into one big list!\n",
    "\n",
    "def read_scans_and_split_by_xtl(allfolders):\n",
    "\n",
    "    data_list = []\n",
    "    metadata_list = []\n",
    "\n",
    "    for i in range(len(allfolders)):\n",
    "        _, data, metadata = readfiles.import_jeol_wdscans(allfolders[i],\n",
    "                                                             'data001_mm.csv', 'data001.cnd',\n",
    "                                                             comment_line_num=80,\n",
    "                                                             return_metadata=True)\n",
    "        data_list.append(data)\n",
    "        metadata_list.append(metadata)\n",
    "\n",
    "        if (Path(allfolders[i]) / Path(\"data002_mm.csv\")).exists():\n",
    "            _, data, metadata = readfiles.import_jeol_wdscans(allfolders[i],\n",
    "                                                                'data002_mm.csv', 'data002.cnd',\n",
    "                                                                comment_line_num=80,\n",
    "                                                                return_metadata=True)\n",
    "            data_list.append(data)\n",
    "            metadata_list.append(metadata)\n",
    "    \n",
    "    # And then split based on crystal, and save to 'cleaned_data' folder.\n",
    "    \n",
    "    xtls = list(set([m.crystal for m in metadata_list])) # Find the unique crystals\n",
    "    data_by_xtl = {}\n",
    "\n",
    "    for xtl in xtls:\n",
    "        data_by_xtl[xtl] = []\n",
    "\n",
    "        for i, m in enumerate(metadata_list):\n",
    "            if m.crystal == xtl:\n",
    "                data_by_xtl[xtl].append(data_list[i])\n",
    "\n",
    "\n",
    "    return data_by_xtl\n",
    "\n",
    "def average_spectra(data):\n",
    "\n",
    "    \"\"\" data = a list of pandas dataframes \"\"\"\n",
    "\n",
    "    # Rehape data into np arrays\n",
    "    cpsdata = np.empty(shape=(len(data[0].cps), len(data)))\n",
    "    cps_per_nA_data = np.empty(shape=(len(data[0].cps), len(data)))\n",
    "    Ldata = np.empty(shape=(len(data[0].L), len(data)))\n",
    "\n",
    "    for i in range(len(data)):\n",
    "        cpsdata[:, i] = data[i].cps\n",
    "        cps_per_nA_data[:,i] = data[i].cps_per_nA\n",
    "        Ldata[:, i] = data[i].L\n",
    "\n",
    "    # Check L-axes are the same:\n",
    "    L_axis_check = np.array([Ldata[:,n] == Ldata[:,0]\n",
    "                             for n in range(len(data))])\n",
    "\n",
    "\n",
    "    if L_axis_check.all().all() == False:\n",
    "        print(Ldata[1:10, :])\n",
    "        raise Exception('L values are not the same between datasets!')\n",
    "\n",
    "    # Average the data\n",
    "    mean_df = pd.DataFrame({'L': Ldata[:,0],\n",
    "                            'cps': cpsdata.mean(axis=1),\n",
    "                            'cps_per_nA': cps_per_nA_data.mean(axis=1),\n",
    "                            'cps_per_nA_stdev': cps_per_nA_data.std(axis=1)})\n",
    "\n",
    "    return mean_df"
   ]
  },
  {
   "cell_type": "markdown",
   "metadata": {},
   "source": [
    "# Compile the ANU data and save"
   ]
  },
  {
   "cell_type": "code",
   "execution_count": null,
   "metadata": {},
   "outputs": [],
   "source": [
    "budd_folders = sorted(glob.glob('../data/raw/peak_shapes/raw_data_ANU/Buddingtonite/*'))\n",
    "budd_data = read_scans_and_split_by_xtl(budd_folders)\n",
    "budd_avg = {'LDE1': average_spectra(budd_data['LDE1']),\n",
    "             'LDE1H': average_spectra(budd_data['LDE1H'])}"
   ]
  },
  {
   "cell_type": "code",
   "execution_count": null,
   "metadata": {},
   "outputs": [],
   "source": [
    "glass_folders = sorted(glob.glob('../data/raw/peak_shapes/raw_data_ANU/GlassA870/*'))\n",
    "glass_data = read_scans_and_split_by_xtl(glass_folders)\n",
    "glass_avg = {'LDE1': average_spectra(glass_data['LDE1']),\n",
    "             'LDE1H': average_spectra(glass_data['LDE1H'])}"
   ]
  },
  {
   "cell_type": "code",
   "execution_count": null,
   "metadata": {},
   "outputs": [],
   "source": [
    "nitride_folders = [f for f in list(Path(\"../data/raw/peak_shapes/raw_data_ANU/\").glob(\"*\")) if f.stem in [\"AlN\", \"GaN\", \"BN\", \"Si3N4\"]]\n",
    "nitride_names = [Path(n).stem for n in nitride_folders]\n",
    "nitride_data = read_scans_and_split_by_xtl(nitride_folders)"
   ]
  },
  {
   "cell_type": "code",
   "execution_count": null,
   "metadata": {},
   "outputs": [],
   "source": [
    "for xtl in ['LDE1', 'LDE1H']:\n",
    "\n",
    "    # Check if folder exists, if not, create it\n",
    "    output_folder = Path(f'../data/interim/peak_shapes/cleaned_data_ANU/{xtl}/')\n",
    "    \n",
    "    if not output_folder.exists():\n",
    "        output_folder.mkdir(parents=True, exist_ok=True)\n",
    "    \n",
    "    for i in range(len(nitride_data[xtl])):\n",
    "        nitride_data[xtl][i].to_csv(output_folder / Path(nitride_names[i] + '.csv'))\n",
    "    \n",
    "    budd_avg[xtl].to_csv(output_folder / Path('Buddingtonite.csv'))\n",
    "    glass_avg[xtl].to_csv(output_folder / Path('GlassA870.csv'))\n"
   ]
  },
  {
   "cell_type": "code",
   "execution_count": null,
   "metadata": {},
   "outputs": [],
   "source": [
    "budd_longscan = read_scans_and_split_by_xtl([Path(\"../data/raw/peak_shapes/raw_data_ANU/budd_long_bg_scan/\")])\n",
    "budd_longscan"
   ]
  },
  {
   "cell_type": "code",
   "execution_count": null,
   "metadata": {},
   "outputs": [],
   "source": [
    "_, _, budd_long_metadata = readfiles.import_jeol_wdscans(\n",
    "    Path(\"../data/raw/peak_shapes/raw_data_ANU/budd_long_bg_scan/\"),\n",
    "    \"data001_mm.csv\",\n",
    "    \"data001.cnd\",\n",
    "    comment_line_num=80,\n",
    "    return_metadata=True,\n",
    ")\n",
    "\n",
    "_, _, budd_short_metadata = readfiles.import_jeol_wdscans(\n",
    "    Path(\"../data/raw/peak_shapes/raw_data_ANU/Buddingtonite/Pos_0005/\"),\n",
    "    \"data001_mm.csv\",\n",
    "    \"data001.cnd\",\n",
    "    comment_line_num=80,\n",
    "    return_metadata=True,\n",
    ")\n"
   ]
  },
  {
   "cell_type": "code",
   "execution_count": null,
   "metadata": {},
   "outputs": [],
   "source": [
    "budd_short_metadata"
   ]
  },
  {
   "cell_type": "code",
   "execution_count": null,
   "metadata": {},
   "outputs": [],
   "source": [
    "mosaic = \"\"\"\n",
    "    AB\n",
    "    CD\n",
    "    EE\n",
    "    \"\"\"\n",
    "\n",
    "fig = plt.figure(constrained_layout=True, figsize=(17*0.39, 16*0.39))\n",
    "ax_dict = fig.subplot_mosaic(mosaic)\n",
    "\n",
    "for i in range(3):\n",
    "    ax_dict[\"A\"].plot(glass_data[\"LDE1H\"][i].L\n",
    "           , glass_data[\"LDE1H\"][i].cps_per_nA + i*2\n",
    "           , linestyle='-', color='k', lw=0.5)\n",
    "    \n",
    "for i in range(3):\n",
    "    ax_dict[\"C\"].plot(budd_data[\"LDE1H\"][i].L\n",
    "           , budd_data[\"LDE1H\"][i].cps_per_nA + i*5\n",
    "           , linestyle='-', color='tab:blue', lw=0.5)\n",
    "    \n",
    "ax_dict[\"B\"].errorbar(x=glass_avg[\"LDE1H\"].L\n",
    "                    , y=glass_avg[\"LDE1H\"].cps_per_nA\n",
    "                    , yerr=glass_avg[\"LDE1H\"].cps_per_nA_stdev\n",
    "                    , elinewidth=1, ecolor=\"lightgrey\", color=\"k\"\n",
    "                    )\n",
    "\n",
    "ax_dict[\"D\"].errorbar(x=budd_avg[\"LDE1H\"].L\n",
    "                    , y=budd_avg[\"LDE1H\"].cps_per_nA\n",
    "                    , yerr=budd_avg[\"LDE1H\"].cps_per_nA_stdev\n",
    "                    , elinewidth=1, ecolor=\"lightgrey\", color=\"tab:blue\"\n",
    "                    )\n",
    "\n",
    "# ADD THE LONGSCAN BACK IN HERE!! (AND UNCOMMENT SUBPLOT E STUFF BELOW)\n",
    "budd_longscan[\"LDE1H\"][0].plot(x='L', y='cps_per_nA', ax=ax_dict[\"E\"], color=\"tab:orange\", lw=1)\n",
    "budd_avg[\"LDE1H\"].plot(x='L', y='cps_per_nA', ax=ax_dict[\"E\"], color=\"tab:blue\", lw=1)\n",
    "\n",
    "# Annotate axes -------------------------------------------------\n",
    "for k, ax in ax_dict.items():\n",
    "    ax.set_ylabel('cps/nA')\n",
    "    ax.set_xlabel('L (mm)')\n",
    "    \n",
    "ax_dict[\"E\"].plot([146,146], [0,9], ':k', lw=1)\n",
    "ax_dict[\"E\"].legend([f'{budd_long_metadata.total_time_mins}-min scan at {round(budd_long_metadata.current_nA, 0)} nA',\n",
    "                     f'Avg of 60 {budd_short_metadata.total_time_mins}-min scans at {round(budd_short_metadata.current_nA)} nA'])\n",
    "\n",
    "ax_dict[\"A\"].set_title(\"Glass A870 - individual scans\")\n",
    "ax_dict[\"B\"].set_title(\"Glass A870 - avg of 20 scans\")\n",
    "ax_dict[\"C\"].set_title(\"Buddingtonite - individual scans\")\n",
    "ax_dict[\"D\"].set_title(\"Buddingtonite - avg of 60 scans\")\n",
    "ax_dict[\"E\"].set_title(\"Buddingtonite\")\n",
    "\n",
    "for label, ax in ax_dict.items():\n",
    "    trans = mtransforms.ScaledTranslation(5/72, -5/72, fig.dpi_scale_trans)\n",
    "    ax.text(0.0, 1.0, label, transform=ax.transAxes + trans,\n",
    "            fontsize=12, verticalalignment='top', fontfamily='Arial',\n",
    "            bbox=dict(facecolor='w', edgecolor='grey', pad=3.0))\n",
    "\n",
    "fig.align_labels()\n",
    "# plt.savefig(\"Budd_and_Glass_scans.pdf\")\n",
    "plt.show()\n"
   ]
  },
  {
   "cell_type": "markdown",
   "metadata": {},
   "source": [
    "# Compile the StA data and save"
   ]
  },
  {
   "cell_type": "code",
   "execution_count": null,
   "metadata": {},
   "outputs": [],
   "source": [
    "allfolders = sorted(glob.glob('../data/raw/peak_shapes/raw_data_StA/*'))\n",
    "\n",
    "names = [Path(n).stem for n in allfolders]\n",
    "data = read_scans_and_split_by_xtl(allfolders)\n",
    "\n",
    "for xtl in data.keys():\n",
    "\n",
    "    # Check if folder exists, if not, create it\n",
    "    output_folder = Path(f'../data/interim/peak_shapes/cleaned_data_StA/{xtl}/')\n",
    "    \n",
    "    if not output_folder.exists():\n",
    "        output_folder.mkdir(parents=True, exist_ok=True)\n",
    "    \n",
    "    for i in range(len(data[xtl])):\n",
    "        data[xtl][i].to_csv(output_folder / Path(names[i] + '.csv'))\n"
   ]
  },
  {
   "cell_type": "code",
   "execution_count": null,
   "metadata": {},
   "outputs": [],
   "source": []
  },
  {
   "cell_type": "markdown",
   "metadata": {},
   "source": []
  }
 ],
 "metadata": {
  "kernelspec": {
   "display_name": "pyMinSpector",
   "language": "python",
   "name": "python3"
  },
  "language_info": {
   "codemirror_mode": {
    "name": "ipython",
    "version": 3
   },
   "file_extension": ".py",
   "mimetype": "text/x-python",
   "name": "python",
   "nbconvert_exporter": "python",
   "pygments_lexer": "ipython3",
   "version": "3.9.17"
  }
 },
 "nbformat": 4,
 "nbformat_minor": 2
}
