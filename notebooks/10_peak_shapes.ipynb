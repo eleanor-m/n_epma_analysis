{
 "cells": [
  {
   "cell_type": "code",
   "execution_count": 3,
   "metadata": {},
   "outputs": [],
   "source": [
    "import pandas as pd\n",
    "import glob\n",
    "import sys\n",
    "sys.path.insert(1, '..')\n",
    "from src import readfiles\n",
    "from pathlib import Path\n",
    "import numpy as np\n",
    "\n",
    "# **Warning:**\n",
    "# Files named 001 and 002 do not always correspond to the same crystal!\n",
    "# So this information must be extracted from the metadata.\n",
    "# So get all the data into one big list!\n",
    "\n",
    "def read_scans_and_split_by_xtl(allfolders):\n",
    "\n",
    "    data_list = []\n",
    "    metadata_list = []\n",
    "\n",
    "    for i in range(len(allfolders)):\n",
    "        _, data, metadata = readfiles.import_jeol_wdscans(allfolders[i],\n",
    "                                                             'data001_mm.csv', 'data001.cnd',\n",
    "                                                             comment_line_num=80,\n",
    "                                                             return_metadata=True)\n",
    "        data_list.append(data)\n",
    "        metadata_list.append(metadata)\n",
    "    \n",
    "        _, data, metadata = readfiles.import_jeol_wdscans(allfolders[i],\n",
    "                                                             'data002_mm.csv', 'data002.cnd',\n",
    "                                                             comment_line_num=80,\n",
    "                                                             return_metadata=True)\n",
    "        data_list.append(data)\n",
    "        metadata_list.append(metadata)\n",
    "    \n",
    "    # And then split based on crystal, and save to 'cleaned_data' folder.\n",
    "    \n",
    "    xtls = list(set([m.crystal for m in metadata_list])) # Find the unique crystals\n",
    "    data_by_xtl = {xtls[0]: [], xtls[1]: []}\n",
    "    \n",
    "    for i, m in enumerate(metadata_list):\n",
    "    \n",
    "        data_by_xtl[m.crystal].append(data_list[i])\n",
    "\n",
    "    return data_by_xtl\n",
    "\n",
    "def average_spectra(data):\n",
    "\n",
    "    \"\"\" data = a list of pandas dataframes \"\"\"\n",
    "\n",
    "    # Rehape data into np arrays\n",
    "    cpsdata = np.empty(shape=(len(data[0].cps), len(data)))\n",
    "    cps_per_nA_data = np.empty(shape=(len(data[0].cps), len(data)))\n",
    "    Ldata = np.empty(shape=(len(data[0].L), len(data)))\n",
    "\n",
    "    for i in range(len(data)):\n",
    "        cpsdata[:, i] = data[i].cps\n",
    "        cps_per_nA_data[:,i] = data[i].cps_per_nA\n",
    "        Ldata[:, i] = data[i].L\n",
    "\n",
    "    # Check L-axes are the same:\n",
    "    L_axis_check = np.array([Ldata[:,n] == Ldata[:,0]\n",
    "                             for n in range(len(data))])\n",
    "\n",
    "\n",
    "    if L_axis_check.all().all() == False:\n",
    "        print(Ldata[1:10, :])\n",
    "        raise Exception('L values are not the same between datasets!')\n",
    "\n",
    "    # Average the data\n",
    "    mean_df = pd.DataFrame({'L': Ldata[:,0],\n",
    "                            'cps': cpsdata.mean(axis=1),\n",
    "                            'cps_per_nA': cps_per_nA_data.mean(axis=1),\n",
    "                            'cps_per_nA_stdev': cps_per_nA_data.std(axis=1)})\n",
    "\n",
    "    return mean_df"
   ]
  },
  {
   "cell_type": "markdown",
   "metadata": {},
   "source": [
    "# Compile the ANU data and save"
   ]
  },
  {
   "cell_type": "code",
   "execution_count": 5,
   "metadata": {},
   "outputs": [],
   "source": [
    "budd_folders = sorted(glob.glob('../data/raw/peak_shapes/raw_data_ANU/Buddingtonite/*'))\n",
    "budd_data = read_scans_and_split_by_xtl(budd_folders)\n",
    "budd_avg = {'LDE1': average_spectra(budd_data['LDE1']),\n",
    "             'LDE1H': average_spectra(budd_data['LDE1H'])}"
   ]
  },
  {
   "cell_type": "code",
   "execution_count": 9,
   "metadata": {},
   "outputs": [],
   "source": [
    "glass_folders = sorted(glob.glob('../data/raw/peak_shapes/raw_data_ANU/GlassA870/*'))\n",
    "glass_data = read_scans_and_split_by_xtl(glass_folders)\n",
    "glass_avg = {'LDE1': average_spectra(glass_data['LDE1']),\n",
    "             'LDE1H': average_spectra(glass_data['LDE1H'])}"
   ]
  },
  {
   "cell_type": "code",
   "execution_count": 14,
   "metadata": {},
   "outputs": [],
   "source": [
    "nitride_folders = sorted(glob.glob('../data/raw/peak_shapes/raw_data_ANU/*'))\n",
    "nitride_folders = [n for n in nitride_folders if 'Buddingtonite' not in n if 'Glass' not in n]\n",
    "nitride_names = [Path(n).stem for n in nitride_folders]\n",
    "nitride_data = read_scans_and_split_by_xtl(nitride_folders)"
   ]
  },
  {
   "cell_type": "code",
   "execution_count": 16,
   "metadata": {},
   "outputs": [],
   "source": [
    "for xtl in ['LDE1', 'LDE1H']:\n",
    "\n",
    "    # Check if folder exists, if not, create it\n",
    "    output_folder = Path(f'../data/interim/peak_shapes/cleaned_data_ANU/{xtl}/')\n",
    "    \n",
    "    if not output_folder.exists():\n",
    "        output_folder.mkdir(parents=True, exist_ok=True)\n",
    "    \n",
    "    for i in range(len(nitride_data[xtl])):\n",
    "        nitride_data[xtl][i].to_csv(output_folder / Path(nitride_names[i] + '.csv'))\n",
    "    \n",
    "    budd_avg[xtl].to_csv(output_folder / Path('Buddingtonite.csv'))\n",
    "    glass_avg[xtl].to_csv(output_folder / Path('GlassA870.csv'))\n"
   ]
  },
  {
   "cell_type": "markdown",
   "metadata": {},
   "source": [
    "# Compile the StA data and save"
   ]
  },
  {
   "cell_type": "code",
   "execution_count": 26,
   "metadata": {},
   "outputs": [],
   "source": [
    "allfolders = sorted(glob.glob('../data/raw/peak_shapes/raw_data_StA/*'))\n",
    "\n",
    "names = [Path(n).stem for n in allfolders]\n",
    "data = read_scans_and_split_by_xtl(allfolders)\n",
    "\n",
    "for xtl in data.keys():\n",
    "\n",
    "    # Check if folder exists, if not, create it\n",
    "    output_folder = Path(f'../data/interim/peak_shapes/cleaned_data_StA/{xtl}/')\n",
    "    \n",
    "    if not output_folder.exists():\n",
    "        output_folder.mkdir(parents=True, exist_ok=True)\n",
    "    \n",
    "    for i in range(len(data[xtl])):\n",
    "        data[xtl][i].to_csv(output_folder / Path(names[i] + '.csv'))\n"
   ]
  },
  {
   "cell_type": "markdown",
   "metadata": {},
   "source": [
    "# "
   ]
  }
 ],
 "metadata": {
  "kernelspec": {
   "display_name": "pyMinSpector",
   "language": "python",
   "name": "python3"
  },
  "language_info": {
   "codemirror_mode": {
    "name": "ipython",
    "version": 3
   },
   "file_extension": ".py",
   "mimetype": "text/x-python",
   "name": "python",
   "nbconvert_exporter": "python",
   "pygments_lexer": "ipython3",
   "version": "3.9.17"
  }
 },
 "nbformat": 4,
 "nbformat_minor": 2
}
